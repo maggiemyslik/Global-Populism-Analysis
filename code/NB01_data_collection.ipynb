{
 "cells": [
  {
   "cell_type": "markdown",
   "metadata": {},
   "source": [
    "# **NB01 - Data Collection**\n",
    "\n",
    "**Objective:** This notebook collects data from the GDELT and World Bank API and uploads them into the raw data folder to be processed in notebook 2. VDEM data will be collected in notebook 2 because it is too large to save directly as raw data; it can only be pushed on to GitHub after it is processed (see README file for more details). "
   ]
  },
  {
   "cell_type": "markdown",
   "metadata": {},
   "source": [
    "**Imports:**"
   ]
  },
  {
   "cell_type": "code",
   "execution_count": null,
   "metadata": {},
   "outputs": [],
   "source": [
    "import pandas as pd\n",
    "import os\n",
    "import functions \n",
    "from google.cloud import storage"
   ]
  },
  {
   "cell_type": "markdown",
   "metadata": {},
   "source": [
    "# 1.Collect the data from the GDELT API"
   ]
  },
  {
   "cell_type": "markdown",
   "metadata": {},
   "source": [
    "We used Google Big Query and Google Cloud Storage (GCS) to query the data from GDELT.\n",
    "\n",
    "The query used to select the data was:\n",
    "\n",
    "```sql\n",
    "SELECT SQLDATE, EventCode, ActionGeo_CountryCode, AvgTone, GoldsteinScale, NumMentions\n",
    "FROM `gdelt-bq.gdeltv2.events`\n",
    "WHERE ActionGeo_CountryCode IN ('US', 'FR', 'IR', 'BR', 'IN', 'ZA')\n",
    "  AND EventRootCode IN ('10', '11', '13', '14', '15', '18', '20')\n",
    "  AND SQLDATE BETWEEN 20130101 AND 20231231\n",
    "ORDER BY SQLDATE DESC;\n",
    "```\n",
    "\n",
    "Where the event root-codes represent the following categories:\n",
    "- 10 = demands\n",
    "- 11 = disapproval \n",
    "- 13 = threat\n",
    "- 14 = protest\n",
    "- 15 = force\n",
    "- 18 = assault \n",
    "- 20 = mass violence\n",
    "\n",
    "Here is the GDELT write up on tone and goldstein scale measures:\n",
    "\n",
    "- AvgTone. (numeric) This is the average “tone” of all documents containing one or more\n",
    "mentions of this event during the 15 minute update in which it was first seen. The score\n",
    "ranges from -100 (extremely negative) to +100 (extremely positive). Common values range\n",
    "between -10 and +10, with 0 indicating neutral. This can be used as a method of filtering the\n",
    "“context” of events as a subtle measure of the importance of an event and as a proxy for the\n",
    "“impact” of that event. For example, a riot event with a slightly negative average tone is likely\n",
    "to have been a minor occurrence, whereas if it had an extremely negative average tone, it\n",
    "suggests a far more serious occurrence. A riot with a positive score likely suggests a very minor \n",
    "occurrence described in the context of a more positive narrative (such as a report of an attack\n",
    "occurring in a discussion of improving conditions on the ground in a country and how the\n",
    "number of attacks per day has been greatly reduced). NOTE: this field refers only to the first\n",
    "news report to mention an event and is not updated if the event is found in a different context\n",
    "in other news reports. It is included for legacy purposes – for more precise information on the\n",
    "positioning of an event, see the Mentions table. NOTE: this provides only a basic tonal\n",
    "assessment of an article and it is recommended that users interested in emotional measures use\n",
    "the Mentions and Global Knowledge Graph tables to merge the complete set of 2,300 emotions\n",
    "and themes from the GKG GCAM system into their analysis of event records.\n",
    "\n",
    "- GoldsteinScale. (floating point) Each CAMEO event code is assigned a numeric score from -10 to\n",
    "+10, capturing the theoretical potential impact that type of event will have on the stability of a\n",
    "country. This is known as the Goldstein Scale. This field specifies the Goldstein score for each\n",
    "event type. NOTE: this score is based on the type of event, not the specifics of the actual event\n",
    "record being recorded – thus two riots, one with 10 people and one with 10,000, will both\n",
    "receive the same Goldstein score. This can be aggregated to various levels of time resolution to\n",
    "yield an approximation of the stability of a location over time.\n",
    "\n",
    "We used GCS to download each table from google big query to the cloud, and then used the python package google.cloud to laod the json files in. The code below reads in each JSON and saves it to data/raw/gdelt. \n"
   ]
  },
  {
   "cell_type": "code",
   "execution_count": null,
   "metadata": {},
   "outputs": [],
   "source": [
    "os.environ[\"GOOGLE_APPLICATION_CREDENTIALS\"] = \"../access_keys/secure_key.json\"\n",
    "client = storage.Client()\n",
    "bucket_name = \"gdelt_data_yearly_storage\"  \n",
    "bucket = client.bucket(bucket_name)\n",
    "countries = ['US', 'FR', 'ZA', 'IR', 'BR', 'IN']\n",
    "output_dir=\"../data/raw/gdelt/\"\n",
    "functions.process_gdelt_data(bucket, countries, output_dir)"
   ]
  },
  {
   "cell_type": "markdown",
   "metadata": {},
   "source": [
    "# 2. Collect the data from the World Bank API\n",
    "\n",
    "The World Bank API provides access to a vast repository of global economic data, including GDP, inflation, unemployment, and governance indictors.\n",
    "\n",
    " We leveraged this API to collect key economic variables for our analysis, which examines the relationship between economic conditions and public sentiment towards democracy.\n",
    "\n",
    "### Economic Indicators Collected\n",
    "\n",
    "- **GDP Growth (NY.GDP.MKTP.KD.ZG):** Measures economic performance, often linked to public confidence in governance.\n",
    "- **GINI Index (SI.POV.GINI):** Captures income distribution and economic disparity, which may impact support for democracy.\n",
    "- **Income Share Held by Lowest 20% (SI.DST.FRST.20):** Measures income inequality, often associated with political discontent.\n",
    "- **Inflation, Consumer Prices (FP.CPI.TOTL):** Affects cost of living and economic stability, impacting political trust.\n",
    "- **Poverty Headcount Ratio at $2.15 a Day (SI.POV.DDAY):** Indicates extreme poverty levels, a crucial factor in economic grievances.\n",
    "- **Unemployment (% of total labor force) (SL.UEM.TOTL.ZS):** Reflects labor market health, influencing political sentiment.\n",
    "- **Government Effectiveness: Estimate (GE.EST):** Measures the quality of governance, affecting trust in democratic institutions.\n",
    "- **Control of Corruption: Estimate (CC.EST):** Evaluates corruption levels, which influence public confidence in democracy.\n",
    "- **Education Expenditure (% of GDP) (SE.XPD.TOTL.GD.ZS):** Assesses investment in human capital, influencing long-term economic and political stability.\n",
    "\n",
    "### Countries and Time Frame\n",
    "\n",
    "To maintain consistency with the **GDELT dataset**, we collected data for the following countries:\n",
    "\n",
    "- **United States (USA)**\n",
    "- **Brazil (BRA)**\n",
    "- **France (FRA)**\n",
    "- **South Africa (ZAF)**\n",
    "- **Iran (IRN)**\n",
    "- **India (IND)**\n",
    "\n",
    "We retrieved data from **2014 to 2023**, ensuring a sufficient time span to analyse economic trends alongside democratic sentiment.\n"
   ]
  },
  {
   "cell_type": "code",
   "execution_count": null,
   "metadata": {},
   "outputs": [],
   "source": [
    "indicators = {\n",
    "    \"gdp_growth\": \"NY.GDP.MKTP.KD.ZG\",  # GDP Growth (annual %)\n",
    "    \"inflation\": \"FP.CPI.TOTL\",  # Inflation, consumer prices (annual %)\n",
    "    \"unemployment\": \"SL.UEM.TOTL.ZS\",  # Unemployment (% of total labor force)\n",
    "    \"income_share_lowest_20\": \"SI.DST.FRST.20\",  # Income Share Held by Lowest 20%\n",
    "    \"gini_index\": \"SI.POV.GINI\",  # GINI Index (World Bank estimate)\n",
    "    \"poverty_headcount\": \"SI.POV.DDAY\",  # Poverty Headcount Ratio at $2.15 a Day (2017 PPP) (% of population)\n",
    "    \"education_expenditure\": \"SE.XPD.TOTL.GD.ZS\",  # Education Expenditure (% of GDP)\n",
    "    \"government_effectiveness\": \"GE.EST\",  # Government Effectiveness: Estimate\n",
    "    \"control_of_corruption\": \"CC.EST\"  # Control of Corruption: Estimate\n",
    "}\n",
    "countries = [\"USA\", \"BRA\", \"FRA\", \"ZAF\", \"IRN\", \"IND\"]  # USA, BRAZIL, FRANCE, SOUTH AFRICA, IRAN, INDIA\n",
    "start_year = 2014\n",
    "end_year = 2023\n",
    "folder = \"data/raw/world_bank\"\n",
    "\n",
    "data = functions.collect_data(countries, indicators, start_year, end_year, folder)"
   ]
  }
 ],
 "metadata": {
  "kernelspec": {
   "display_name": "Python 3",
   "language": "python",
   "name": "python3"
  },
  "language_info": {
   "codemirror_mode": {
    "name": "ipython",
    "version": 3
   },
   "file_extension": ".py",
   "mimetype": "text/x-python",
   "name": "python",
   "nbconvert_exporter": "python",
   "pygments_lexer": "ipython3",
   "version": "3.12.2"
  }
 },
 "nbformat": 4,
 "nbformat_minor": 2
}
